{
 "cells": [
  {
   "cell_type": "markdown",
   "id": "99b395d3",
   "metadata": {},
   "source": [
    "# Problem Solving Using Python\n",
    "\n",
    "Exercises is from Hackerrank.com/problemsolving\n"
   ]
  },
  {
   "cell_type": "code",
   "execution_count": 8,
   "id": "a9bdcd67",
   "metadata": {},
   "outputs": [],
   "source": [
    "\"\"\"\n",
    "function solveMeFirst to compute the sum of two integers.\n",
    "\"\"\"\n",
    "\n",
    "def solveMeFirst(a,b):\n",
    "\t# Hint: Type return a+b below\n",
    "    return a+b\n"
   ]
  },
  {
   "cell_type": "code",
   "execution_count": 12,
   "id": "b6ff4dc2",
   "metadata": {},
   "outputs": [],
   "source": [
    "\"\"\"\n",
    "A number is called a smart number if it has an odd number of factors. \n",
    "Given some numbers, find whether they are smart numbers or not.\n",
    "\"\"\"\n",
    "\n",
    "def is_smart_number(num):\n",
    "    val = int(math.sqrt(num))\n",
    "    if num / (val*val) == 1:\n",
    "        return True\n",
    "    return False"
   ]
  },
  {
   "cell_type": "code",
   "execution_count": 14,
   "id": "1dad3f7e",
   "metadata": {},
   "outputs": [],
   "source": [
    " dp = [[(1<<30) for x in range(7)] for y in range(101)]"
   ]
  },
  {
   "cell_type": "code",
   "execution_count": 26,
   "id": "40f23958",
   "metadata": {
    "scrolled": true
   },
   "outputs": [
    {
     "data": {
      "text/plain": [
       "[32, 32, 32, 32, 32, 32]"
      ]
     },
     "execution_count": 26,
     "metadata": {},
     "output_type": "execute_result"
    }
   ],
   "source": [
    "[(1<<5) for x in range(6)]"
   ]
  },
  {
   "cell_type": "code",
   "execution_count": null,
   "id": "778c876f",
   "metadata": {},
   "outputs": [],
   "source": [
    "\"\"\"\n",
    "Given an array of integers, find the longest subarray where the absolute \n",
    "difference between any two elements is less than or equal to 1\n",
    "\"\"\"\n",
    "\n",
    "def pickingNumbers(a):\n",
    "    # Write your code here\n",
    "    arr = [0]*100\n",
    "    for i in a:\n",
    "        arr[i] += 1\n",
    "    \n",
    "    max_index = arr[0]+arr[1]\n",
    "    \n",
    "    for i in range(2,len(arr)):\n",
    "        cur = arr[i-1]+arr[i]\n",
    "        \n",
    "        if cur > max_index:\n",
    "            max_index = cur\n",
    "            \n",
    "    return max_index"
   ]
  },
  {
   "cell_type": "code",
   "execution_count": 31,
   "id": "19cd8e5b",
   "metadata": {},
   "outputs": [],
   "source": [
    "arr = [0] * 10\n",
    "arr[0] = 10\n",
    "arr"
   ]
  },
  {
   "cell_type": "code",
   "execution_count": 41,
   "id": "2ba12662",
   "metadata": {},
   "outputs": [],
   "source": [
    "set_ = set([100,80,90])"
   ]
  },
  {
   "cell_type": "code",
   "execution_count": 43,
   "id": "70156155",
   "metadata": {},
   "outputs": [],
   "source": [
    "set_ = sorted(set_, reverse=True)\n",
    "\n",
    "arr = [] \n",
    "for data in set_:\n",
    "    arr.append(data)"
   ]
  },
  {
   "cell_type": "code",
   "execution_count": 122,
   "id": "1b79b0fa",
   "metadata": {},
   "outputs": [],
   "source": [
    "def climbingLeaderboard(ranked, player):\n",
    "    # Write your code here\n",
    "    set_rank = sorted(set(ranked), reverse=True)\n",
    "    \n",
    "    arr = []\n",
    "    \n",
    "    for data in set_rank:\n",
    "        arr.append(data)\n",
    "    print(arr)\n",
    "    \n",
    "    cur_scores = 0 # hold the current scores to compare\n",
    "    rank = []   # hold the rank array\n",
    "    cur_rank = 0    # hold the current rank\n",
    "    last_index = len(arr)   # hold last position\n",
    "    \n",
    "    for scores in player:\n",
    "        cur_scores += scores\n",
    "        \n",
    "        for i in range(last_index,-1,-1):\n",
    "            \n",
    "            if cur_scores < arr[i-1]:\n",
    "                print(cur_scores, i)    \n",
    "            else:\n",
    "                print(cur_scores, i+1)\n",
    "                break\n",
    "                \n",
    "        print(' ')\n",
    "    return rank "
   ]
  },
  {
   "cell_type": "code",
   "execution_count": 123,
   "id": "5cc2524f",
   "metadata": {},
   "outputs": [
    {
     "name": "stdout",
     "output_type": "stream",
     "text": [
      "[100, 90, 80, 75, 60]\n",
      "50 5\n",
      "50 4\n",
      "50 3\n",
      "50 2\n",
      "50 1\n",
      "50 0\n",
      " \n",
      "115 6\n",
      " \n",
      "192 6\n",
      " \n",
      "282 6\n",
      " \n",
      "384 6\n",
      " \n"
     ]
    },
    {
     "data": {
      "text/plain": [
       "[]"
      ]
     },
     "execution_count": 123,
     "metadata": {},
     "output_type": "execute_result"
    }
   ],
   "source": [
    "a=[100,90,90,80,75,60]\n",
    "b=[50,65,77,90,102]\n",
    "climbingLeaderboard(a,b)"
   ]
  },
  {
   "cell_type": "code",
   "execution_count": null,
   "id": "a5031e01",
   "metadata": {},
   "outputs": [],
   "source": [
    "def insert(list, n):\n",
    "  \n",
    "    index = len(list)\n",
    "    # Searching for the position\n",
    "    for i in range(len(list)):\n",
    "        if list[i] > n:\n",
    "            index = i\n",
    "            break\n",
    "  \n",
    "    # Inserting n in the list\n",
    "    if index == len(list):\n",
    "        list = list[:index] + [n]\n",
    "    else:\n",
    "        list = list[:index] + [n] + list[index:]\n",
    "    return list"
   ]
  }
 ],
 "metadata": {
  "kernelspec": {
   "display_name": "Python 3",
   "language": "python",
   "name": "python3"
  },
  "language_info": {
   "codemirror_mode": {
    "name": "ipython",
    "version": 3
   },
   "file_extension": ".py",
   "mimetype": "text/x-python",
   "name": "python",
   "nbconvert_exporter": "python",
   "pygments_lexer": "ipython3",
   "version": "3.8.8"
  }
 },
 "nbformat": 4,
 "nbformat_minor": 5
}
