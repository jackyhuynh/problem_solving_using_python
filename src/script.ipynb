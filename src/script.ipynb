{
 "cells": [
  {
   "cell_type": "markdown",
   "id": "99b395d3",
   "metadata": {},
   "source": [
    "# Problem Solving Using Python\n",
    "\n",
    "Exercises is from Hackerrank.com/problemsolving\n"
   ]
  },
  {
   "cell_type": "code",
   "execution_count": 8,
   "id": "a9bdcd67",
   "metadata": {},
   "outputs": [],
   "source": [
    "\"\"\"\n",
    "function solveMeFirst to compute the sum of two integers.\n",
    "\"\"\"\n",
    "\n",
    "def solveMeFirst(a,b):\n",
    "\t# Hint: Type return a+b below\n",
    "    return a+b\n"
   ]
  },
  {
   "cell_type": "code",
   "execution_count": 12,
   "id": "b6ff4dc2",
   "metadata": {},
   "outputs": [],
   "source": [
    "\"\"\"\n",
    "A number is called a smart number if it has an odd number of factors. \n",
    "Given some numbers, find whether they are smart numbers or not.\n",
    "\"\"\"\n",
    "\n",
    "def is_smart_number(num):\n",
    "    val = int(math.sqrt(num))\n",
    "    if num / (val*val) == 1:\n",
    "        return True\n",
    "    return False"
   ]
  },
  {
   "cell_type": "code",
   "execution_count": 14,
   "id": "1dad3f7e",
   "metadata": {},
   "outputs": [],
   "source": [
    " dp = [[(1<<30) for x in range(7)] for y in range(101)]"
   ]
  },
  {
   "cell_type": "code",
   "execution_count": 26,
   "id": "40f23958",
   "metadata": {
    "scrolled": true
   },
   "outputs": [
    {
     "data": {
      "text/plain": [
       "[32, 32, 32, 32, 32, 32]"
      ]
     },
     "execution_count": 26,
     "metadata": {},
     "output_type": "execute_result"
    }
   ],
   "source": [
    "[(1<<5) for x in range(6)]"
   ]
  },
  {
   "cell_type": "code",
   "execution_count": null,
   "id": "778c876f",
   "metadata": {},
   "outputs": [],
   "source": [
    "\"\"\"\n",
    "Given an array of integers, find the longest subarray where the absolute \n",
    "difference between any two elements is less than or equal to 1\n",
    "\"\"\"\n",
    "\n",
    "def pickingNumbers(a):\n",
    "    # Write your code here\n",
    "    arr = [0]*100\n",
    "    for i in a:\n",
    "        arr[i] += 1\n",
    "    \n",
    "    max_index = arr[0]+arr[1]\n",
    "    \n",
    "    for i in range(2,len(arr)):\n",
    "        cur = arr[i-1]+arr[i]\n",
    "        \n",
    "        if cur > max_index:\n",
    "            max_index = cur\n",
    "            \n",
    "    return max_index"
   ]
  },
  {
   "cell_type": "code",
   "execution_count": 31,
   "id": "19cd8e5b",
   "metadata": {},
   "outputs": [],
   "source": [
    "arr = [0] * 10\n",
    "arr[0] = 10\n",
    "arr"
   ]
  },
  {
   "cell_type": "code",
   "execution_count": 41,
   "id": "2ba12662",
   "metadata": {},
   "outputs": [],
   "source": [
    "set_ = set([100,80,90])"
   ]
  },
  {
   "cell_type": "code",
   "execution_count": 43,
   "id": "70156155",
   "metadata": {},
   "outputs": [],
   "source": [
    "set_ = sorted(set_, reverse=True)\n",
    "\n",
    "arr = [] \n",
    "for data in set_:\n",
    "    arr.append(data)"
   ]
  },
  {
   "cell_type": "code",
   "execution_count": 122,
   "id": "1b79b0fa",
   "metadata": {},
   "outputs": [],
   "source": [
    "def climbingLeaderboard(ranked, player):\n",
    "    # Write your code here\n",
    "    set_rank = sorted(set(ranked), reverse=True)\n",
    "    \n",
    "    arr = []\n",
    "    \n",
    "    for data in set_rank:\n",
    "        arr.append(data)\n",
    "    print(arr)\n",
    "    \n",
    "    cur_scores = 0 # hold the current scores to compare\n",
    "    rank = []   # hold the rank array\n",
    "    cur_rank = 0    # hold the current rank\n",
    "    last_index = len(arr)   # hold last position\n",
    "    \n",
    "    for scores in player:\n",
    "        cur_scores += scores\n",
    "        \n",
    "        for i in range(last_index,-1,-1):\n",
    "            \n",
    "            if cur_scores < arr[i-1]:\n",
    "                print(cur_scores, i)    \n",
    "            else:\n",
    "                print(cur_scores, i+1)\n",
    "                break\n",
    "                \n",
    "        print(' ')\n",
    "    return rank "
   ]
  },
  {
   "cell_type": "code",
   "execution_count": 123,
   "id": "5cc2524f",
   "metadata": {},
   "outputs": [
    {
     "name": "stdout",
     "output_type": "stream",
     "text": [
      "[100, 90, 80, 75, 60]\n",
      "50 5\n",
      "50 4\n",
      "50 3\n",
      "50 2\n",
      "50 1\n",
      "50 0\n",
      " \n",
      "115 6\n",
      " \n",
      "192 6\n",
      " \n",
      "282 6\n",
      " \n",
      "384 6\n",
      " \n"
     ]
    },
    {
     "data": {
      "text/plain": [
       "[]"
      ]
     },
     "execution_count": 123,
     "metadata": {},
     "output_type": "execute_result"
    }
   ],
   "source": [
    "a=[100,90,90,80,75,60]\n",
    "b=[50,65,77,90,102]\n",
    "climbingLeaderboard(a,b)"
   ]
  },
  {
   "cell_type": "code",
   "execution_count": null,
   "id": "a5031e01",
   "metadata": {},
   "outputs": [],
   "source": [
    "def insert(list, n):\n",
    "  \n",
    "    index = len(list)\n",
    "    # Searching for the position\n",
    "    for i in range(len(list)):\n",
    "        if list[i] > n:\n",
    "            index = i\n",
    "            break\n",
    "  \n",
    "    # Inserting n in the list\n",
    "    if index == len(list):\n",
    "        list = list[:index] + [n]\n",
    "    else:\n",
    "        list = list[:index] + [n] + list[index:]\n",
    "    return list"
   ]
  },
  {
   "cell_type": "code",
   "execution_count": 141,
   "id": "82c462ee",
   "metadata": {},
   "outputs": [
    {
     "name": "stdout",
     "output_type": "stream",
     "text": [
      "dia2\n",
      "{'row1': 12, 'row2': 14, 'row3': 12, 'col1': 12, 'col2': 12, 'col3': 14, 'dia1': 12, 'dia2': 15}\n"
     ]
    }
   ],
   "source": [
    "\"\"\"\n",
    "We define a magic square to be an  matrix of distinct positive integers from  to  \n",
    "where the sum of any row, column, or diagonal of length  is always equal to the same number: the magic constant.\n",
    "\n",
    "You will be given a  matrix  of integers in the inclusive range . \n",
    "We can convert any digit  to any other digit  in the range  at cost of . Given , convert it into a magic square at minimal cost. Print this cost on a new line.\n",
    "\n",
    "Note: The resulting magic square must contain distinct integers in the inclusive range .\n",
    "\"\"\"\n",
    "import operator\n",
    "\n",
    "def get_max_items(collection):\n",
    "    return (max(collection.items(), key=operator.itemgetter(1))[0])\n",
    "\n",
    "def get_min_items(collection):\n",
    "    return (min(collection.items(), key=operator.itemgetter(1))[0])\n",
    "\n",
    "def formingMagicSquare(s):\n",
    "    # Write your code here\n",
    "    row1 = s[0][0]+s[0][1]+s[0][2]\n",
    "    row2 = s[1][0]+s[1][1]+s[1][2]\n",
    "    row3 = s[2][0]+s[2][1]+s[2][2]\n",
    "    col1 = s[0][0]+s[1][0]+s[2][0]\n",
    "    col2 = s[0][1]+s[1][1]+s[2][1]\n",
    "    col3 = s[0][2]+s[1][2]+s[2][2]\n",
    "    dia1 = s[0][0]+s[1][1]+s[2][2]\n",
    "    dia2 = s[2][0]+s[1][1]+s[0][2]\n",
    "\n",
    "    collection = {\n",
    "        'row1':row1,\n",
    "        'row2':row2,\n",
    "        'row3':row3,\n",
    "        'col1':col1,\n",
    "        'col2':col2,\n",
    "        'col3':col3,\n",
    "        'dia1':dia1,\n",
    "        'dia2':dia2\n",
    "    }\n",
    "\n",
    "    print(get_max_items(collection))\n",
    "    print(collection)\n",
    "    \n",
    "    for i in range(0,100):\n",
    "        i+=1\n",
    "        if row1 == row2 == row3 == col1 == col2 == col3 == dia1 == dia2:\n",
    "            break\n",
    "    \n",
    "    \n",
    "s = [[5, 3, 4], [1, 5, 8], [6, 4, 2]]\n",
    "formingMagicSquare(s)"
   ]
  },
  {
   "cell_type": "code",
   "execution_count": 165,
   "id": "8572fb55",
   "metadata": {},
   "outputs": [
    {
     "name": "stdout",
     "output_type": "stream",
     "text": [
      "7\n"
     ]
    }
   ],
   "source": [
    "collections = [\n",
    "    [[8,3,4],[1,5,9],[6,7,2]],\n",
    "    [[6,1,8],[7,5,3],[2,9,4]],\n",
    "    [[2,7,6],[9,5,1],[4,3,8]],\n",
    "    [[4,9,2],[3,5,7],[8,1,6]]\n",
    "]\n",
    "\n",
    "scores_array = []\n",
    "    \n",
    "s = [[5, 3, 4], [1, 5, 8], [6, 4, 2]]\n",
    "\n",
    "for array in collections:\n",
    "    different_scores=0\n",
    "    for row_index in range(0,3):\n",
    "        for index in range(0,3):\n",
    "            if array[row_index][index] == s[row_index][index]:\n",
    "                different_scores += 1\n",
    "    scores_array.append(different_scores)\n",
    "\n",
    "best_index = (scores_array.index(max(scores_array)))\n",
    "\n",
    "\n",
    "minimal_cost = 0\n",
    "\n",
    "for row_index in range(0,3):\n",
    "    for index in range(0,3):\n",
    "        minimal_cost += abs(collections[best_index][row_index][index] - s[row_index][index])\n",
    "        \n",
    "print(minimal_cost)"
   ]
  },
  {
   "cell_type": "code",
   "execution_count": null,
   "id": "8a134c66",
   "metadata": {},
   "outputs": [],
   "source": [
    "pre = [\n",
    "            [[8, 1, 6], [3, 5, 7], [4, 9, 2]],\n",
    "            [[6, 1, 8], [7, 5, 3], [2, 9, 4]],\n",
    "            [[4, 9, 2], [3, 5, 7], [8, 1, 6]],\n",
    "            [[2, 9, 4], [7, 5, 3], [6, 1, 8]], \n",
    "            [[8, 3, 4], [1, 5, 9], [6, 7, 2]],\n",
    "            [[4, 3, 8], [9, 5, 1], [2, 7, 6]], \n",
    "            [[6, 7, 2], [1, 5, 9], [8, 3, 4]], \n",
    "            [[2, 7, 6], [9, 5, 1], [4, 3, 8]],\n",
    "            ]\n"
   ]
  },
  {
   "cell_type": "code",
   "execution_count": 179,
   "id": "6a8c6ec1",
   "metadata": {},
   "outputs": [],
   "source": [
    "def formingMagicSquare(s):\n",
    "    collections = [\n",
    "            [[8, 1, 6], [3, 5, 7], [4, 9, 2]],\n",
    "            [[6, 1, 8], [7, 5, 3], [2, 9, 4]],\n",
    "            [[4, 9, 2], [3, 5, 7], [8, 1, 6]],\n",
    "            [[2, 9, 4], [7, 5, 3], [6, 1, 8]], \n",
    "            [[8, 3, 4], [1, 5, 9], [6, 7, 2]],\n",
    "            [[4, 3, 8], [9, 5, 1], [2, 7, 6]], \n",
    "            [[6, 7, 2], [1, 5, 9], [8, 3, 4]], \n",
    "            [[2, 7, 6], [9, 5, 1], [4, 3, 8]],\n",
    "            ]\n",
    "    \n",
    "    cost_array = []\n",
    "    \n",
    "    for array in collections:\n",
    "        cost = 0\n",
    "        for row_index in range(0,3):\n",
    "            for index in range(0,3):\n",
    "                cost += abs(array[row_index][index] - s[row_index][index])    \n",
    "        cost_array.append(cost)\n",
    "            \n",
    "    return (min(cost_array))"
   ]
  },
  {
   "cell_type": "code",
   "execution_count": 180,
   "id": "bdde6d74",
   "metadata": {},
   "outputs": [
    {
     "data": {
      "text/plain": [
       "14"
      ]
     },
     "execution_count": 180,
     "metadata": {},
     "output_type": "execute_result"
    }
   ],
   "source": [
    "s =[[4,5,8],[2,4,1],[1,9,7]]\n",
    "\n",
    "formingMagicSquare(s)"
   ]
  }
 ],
 "metadata": {
  "kernelspec": {
   "display_name": "Python 3",
   "language": "python",
   "name": "python3"
  },
  "language_info": {
   "codemirror_mode": {
    "name": "ipython",
    "version": 3
   },
   "file_extension": ".py",
   "mimetype": "text/x-python",
   "name": "python",
   "nbconvert_exporter": "python",
   "pygments_lexer": "ipython3",
   "version": "3.8.8"
  }
 },
 "nbformat": 4,
 "nbformat_minor": 5
}
