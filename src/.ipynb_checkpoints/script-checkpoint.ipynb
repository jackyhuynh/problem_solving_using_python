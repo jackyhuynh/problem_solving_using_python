{
 "cells": [
  {
   "cell_type": "markdown",
   "id": "4c7d5610",
   "metadata": {},
   "source": [
    "# Problem Solving Using Python\n",
    "\n",
    "Exercises is from Hackerrank.com/problemsolving\n"
   ]
  },
  {
   "cell_type": "code",
   "execution_count": 8,
   "id": "eb2c44a8",
   "metadata": {},
   "outputs": [],
   "source": [
    "\"\"\"\n",
    "function solveMeFirst to compute the sum of two integers.\n",
    "\"\"\"\n",
    "\n",
    "def solveMeFirst(a,b):\n",
    "\t# Hint: Type return a+b below\n",
    "    return a+b\n"
   ]
  },
  {
   "cell_type": "code",
   "execution_count": 12,
   "id": "ad6bf625",
   "metadata": {},
   "outputs": [],
   "source": [
    "\"\"\"\n",
    "A number is called a smart number if it has an odd number of factors. \n",
    "Given some numbers, find whether they are smart numbers or not.\n",
    "\"\"\"\n",
    "\n",
    "def is_smart_number(num):\n",
    "    val = int(math.sqrt(num))\n",
    "    if num / (val*val) == 1:\n",
    "        return True\n",
    "    return False"
   ]
  },
  {
   "cell_type": "code",
   "execution_count": 14,
   "id": "01bcdc29",
   "metadata": {},
   "outputs": [],
   "source": [
    " dp = [[(1<<30) for x in range(7)] for y in range(101)]"
   ]
  },
  {
   "cell_type": "code",
   "execution_count": 26,
   "id": "21f47f41",
   "metadata": {
    "scrolled": true
   },
   "outputs": [
    {
     "data": {
      "text/plain": [
       "[32, 32, 32, 32, 32, 32]"
      ]
     },
     "execution_count": 26,
     "metadata": {},
     "output_type": "execute_result"
    }
   ],
   "source": [
    "[(1<<5) for x in range(6)]"
   ]
  },
  {
   "cell_type": "code",
   "execution_count": null,
   "id": "8ab32c09",
   "metadata": {},
   "outputs": [],
   "source": [
    "\"\"\"\n",
    "Given an array of integers, find the longest subarray where the absolute \n",
    "difference between any two elements is less than or equal to 1\n",
    "\"\"\"\n",
    "\n",
    "def pickingNumbers(a):\n",
    "    # Write your code here\n",
    "    arr = [0]*100\n",
    "    for i in a:\n",
    "        arr[i] += 1\n",
    "    \n",
    "    max_index = arr[0]+arr[1]\n",
    "    \n",
    "    for i in range(2,len(arr)):\n",
    "        cur = arr[i-1]+arr[i]\n",
    "        \n",
    "        if cur > max_index:\n",
    "            max_index = cur\n",
    "            \n",
    "    return max_index"
   ]
  },
  {
   "cell_type": "code",
   "execution_count": 31,
   "id": "60412e8e",
   "metadata": {},
   "outputs": [],
   "source": [
    "arr = [0] * 10\n",
    "arr[0] = 10\n",
    "arr"
   ]
  },
  {
   "cell_type": "code",
   "execution_count": 41,
   "id": "f1460f95",
   "metadata": {},
   "outputs": [],
   "source": [
    "set_ = set([100,80,90])"
   ]
  },
  {
   "cell_type": "code",
   "execution_count": 43,
   "id": "2eef5c97",
   "metadata": {},
   "outputs": [],
   "source": [
    "set_ = sorted(set_, reverse=True)\n",
    "\n",
    "arr = [] \n",
    "for data in set_:\n",
    "    arr.append(data)"
   ]
  },
  {
   "cell_type": "code",
   "execution_count": null,
   "id": "14b15832",
   "metadata": {},
   "outputs": [],
   "source": []
  }
 ],
 "metadata": {
  "kernelspec": {
   "display_name": "Python 3",
   "language": "python",
   "name": "python3"
  },
  "language_info": {
   "codemirror_mode": {
    "name": "ipython",
    "version": 3
   },
   "file_extension": ".py",
   "mimetype": "text/x-python",
   "name": "python",
   "nbconvert_exporter": "python",
   "pygments_lexer": "ipython3",
   "version": "3.8.8"
  }
 },
 "nbformat": 4,
 "nbformat_minor": 5
}
